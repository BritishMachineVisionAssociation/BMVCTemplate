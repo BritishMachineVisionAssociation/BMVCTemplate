{
  "cells": [
    {
      "cell_type": "markdown",
      "metadata": {
        "id": "view-in-github",
        "colab_type": "text"
      },
      "source": [
        "<a href=\"https://colab.research.google.com/github/carlosfmorenog/BMVCTemplate/blob/master/CMM560_Topic_8/CMM560_T8_Lab_Solved.ipynb\" target=\"_parent\"><img src=\"https://colab.research.google.com/assets/colab-badge.svg\" alt=\"Open In Colab\"/></a>"
      ]
    },
    {
      "cell_type": "markdown",
      "metadata": {
        "id": "yqb-3eVyFW57"
      },
      "source": [
        "# Topic 8 Laboratory (Solved)"
      ]
    },
    {
      "cell_type": "markdown",
      "metadata": {
        "id": "gIPcUCIRFW5_"
      },
      "source": [
        "In this activity, you will use imbalanced datasets from the [Keel](https://sci2s.ugr.es/keel/imbalanced.php) public repository to appropriately evaluate performance metric in two popular classifiers."
      ]
    },
    {
      "cell_type": "markdown",
      "metadata": {
        "id": "5VaUrwAXFW6A"
      },
      "source": [
        "## Performance Evaluation in Binary Datasets"
      ]
    },
    {
      "cell_type": "markdown",
      "metadata": {
        "id": "qqSpEG6dFW6C"
      },
      "source": [
        "### Making sense of the necessary data"
      ]
    },
    {
      "cell_type": "markdown",
      "metadata": {
        "id": "N9Qm6DRNFW6D"
      },
      "source": [
        "We will use the [glass](https://sci2s.ugr.es/keel/dataset/data/imbalanced/glass-names.txt) dataset. This one has 214 samples of 7 different types of glasses. Each glass sample has 9 features, each corresponding to a different element that composes a glass sample: Rl(??), Na, Mg, Al, Si, K, Ca, Ba and Fe."
      ]
    },
    {
      "cell_type": "markdown",
      "metadata": {
        "id": "b4N6qlhxFW6G"
      },
      "source": [
        "Since we will start with binary datasets, we will first use the [glass0](https://sci2s.ugr.es/keel/keel-dataset/datasets/imbalanced/imb_IRlowerThan9/names/glass0-names.txt) version of the dataset. The only difference of this one with respect of the original one is that a certain glass class called `class 0` is compared against the rest of the glass classes."
      ]
    },
    {
      "cell_type": "markdown",
      "metadata": {
        "id": "vm66-SfMFW6I"
      },
      "source": [
        "Click [here](https://sci2s.ugr.es/keel/dataset.php?cod=141) to visit the *glass0* description website. If you go to the bottom (where it says **Files and additional references**) you an download the **complete dataset**. Unzip to get a file with the extension *.dat*. **OR**, you can simply download `glass0.dat` from Moodle!"
      ]
    },
    {
      "cell_type": "markdown",
      "metadata": {
        "id": "_4XSC08RFW6J"
      },
      "source": [
        "### Loading the Data"
      ]
    },
    {
      "cell_type": "markdown",
      "metadata": {
        "id": "dL0K9OxAFW6L"
      },
      "source": [
        "To import the dataset **directly from the source** to Colab, run the following cell. You are using Linix commands to get and unzip the file!"
      ]
    },
    {
      "cell_type": "code",
      "source": [
        "## Run this cell to import glass0.dat to Colab\n",
        "!wget -O data.zip https://sci2s.ugr.es/keel/dataset/data/imbalanced/glass0.zip\n",
        "!unzip data.zip"
      ],
      "metadata": {
        "colab": {
          "base_uri": "https://localhost:8080/"
        },
        "id": "vuEnUA9SFjIe",
        "outputId": "6ccf9f47-2dad-42c4-8e98-f0bcf7872e53"
      },
      "execution_count": null,
      "outputs": [
        {
          "output_type": "stream",
          "name": "stdout",
          "text": [
            "--2023-03-09 13:16:57--  https://sci2s.ugr.es/keel/dataset/data/imbalanced/glass0.zip\n",
            "Resolving sci2s.ugr.es (sci2s.ugr.es)... 150.214.190.154\n",
            "Connecting to sci2s.ugr.es (sci2s.ugr.es)|150.214.190.154|:443... connected.\n",
            "HTTP request sent, awaiting response... 200 OK\n",
            "Length: 5490 (5.4K) [application/zip]\n",
            "Saving to: ‘data.zip’\n",
            "\n",
            "data.zip            100%[===================>]   5.36K  --.-KB/s    in 0s      \n",
            "\n",
            "2023-03-09 13:16:58 (17.8 MB/s) - ‘data.zip’ saved [5490/5490]\n",
            "\n",
            "Archive:  data.zip\n",
            "replace glass0.dat? [y]es, [n]o, [A]ll, [N]one, [r]ename: n\n"
          ]
        }
      ]
    },
    {
      "cell_type": "code",
      "execution_count": null,
      "metadata": {
        "colab": {
          "base_uri": "https://localhost:8080/"
        },
        "id": "C-bHYmiKFW6N",
        "outputId": "e36a9595-4f52-46cb-bf78-bfcd364886d4"
      },
      "outputs": [
        {
          "output_type": "stream",
          "name": "stdout",
          "text": [
            "[[ 1.51588824 12.87795     3.43036    ...  8.04468     0.\n",
            "   0.1224    ]\n",
            " [ 1.5176423  12.9777      3.53812    ...  8.52888     0.\n",
            "   0.        ]\n",
            " [ 1.52212996 14.20795     3.82099    ...  9.5726      0.\n",
            "   0.        ]\n",
            " ...\n",
            " [ 1.51837126 14.321       3.25974    ...  5.78508     1.62855\n",
            "   0.        ]\n",
            " [ 1.51657164 14.7998      0.         ...  8.2814      1.71045\n",
            "   0.        ]\n",
            " [ 1.51732338 14.95275     0.         ...  8.61496     1.5498\n",
            "   0.        ]] (214, 9)\n",
            "[' positive' ' positive' ' positive' ' positive' ' positive' ' positive'\n",
            " ' positive' ' positive' ' positive' ' positive' ' positive' ' positive'\n",
            " ' positive' ' positive' ' positive' ' positive' ' positive' ' positive'\n",
            " ' positive' ' positive' ' positive' ' positive' ' positive' ' positive'\n",
            " ' positive' ' positive' ' positive' ' positive' ' positive' ' positive'\n",
            " ' positive' ' positive' ' positive' ' positive' ' positive' ' positive'\n",
            " ' positive' ' positive' ' positive' ' positive' ' positive' ' positive'\n",
            " ' positive' ' positive' ' positive' ' positive' ' positive' ' positive'\n",
            " ' positive' ' positive' ' positive' ' positive' ' positive' ' positive'\n",
            " ' positive' ' positive' ' positive' ' positive' ' positive' ' positive'\n",
            " ' positive' ' positive' ' positive' ' positive' ' positive' ' positive'\n",
            " ' positive' ' positive' ' positive' ' positive' ' negative' ' negative'\n",
            " ' negative' ' negative' ' negative' ' negative' ' negative' ' negative'\n",
            " ' negative' ' negative' ' negative' ' negative' ' negative' ' negative'\n",
            " ' negative' ' negative' ' negative' ' negative' ' negative' ' negative'\n",
            " ' negative' ' negative' ' negative' ' negative' ' negative' ' negative'\n",
            " ' negative' ' negative' ' negative' ' negative' ' negative' ' negative'\n",
            " ' negative' ' negative' ' negative' ' negative' ' negative' ' negative'\n",
            " ' negative' ' negative' ' negative' ' negative' ' negative' ' negative'\n",
            " ' negative' ' negative' ' negative' ' negative' ' negative' ' negative'\n",
            " ' negative' ' negative' ' negative' ' negative' ' negative' ' negative'\n",
            " ' negative' ' negative' ' negative' ' negative' ' negative' ' negative'\n",
            " ' negative' ' negative' ' negative' ' negative' ' negative' ' negative'\n",
            " ' negative' ' negative' ' negative' ' negative' ' negative' ' negative'\n",
            " ' negative' ' negative' ' negative' ' negative' ' negative' ' negative'\n",
            " ' negative' ' negative' ' negative' ' negative' ' negative' ' negative'\n",
            " ' negative' ' negative' ' negative' ' negative' ' negative' ' negative'\n",
            " ' negative' ' negative' ' negative' ' negative' ' negative' ' negative'\n",
            " ' negative' ' negative' ' negative' ' negative' ' negative' ' negative'\n",
            " ' negative' ' negative' ' negative' ' negative' ' negative' ' negative'\n",
            " ' negative' ' negative' ' negative' ' negative' ' negative' ' negative'\n",
            " ' negative' ' negative' ' negative' ' negative' ' negative' ' negative'\n",
            " ' negative' ' negative' ' negative' ' negative' ' negative' ' negative'\n",
            " ' negative' ' negative' ' negative' ' negative' ' negative' ' negative'\n",
            " ' negative' ' negative' ' negative' ' negative' ' negative' ' negative'\n",
            " ' negative' ' negative' ' negative' ' negative'] (214,)\n"
          ]
        }
      ],
      "source": [
        "# Load data and target\n",
        "import numpy as np\n",
        "\n",
        "data = np.genfromtxt('/content/glass0.dat',\n",
        "                     usecols=range(9), # this only brings the first nine columns of the dataset\n",
        "                     skip_header=14, # The first 14 lines of the .dat contain a description\n",
        "                     delimiter=',')\n",
        "\n",
        "\n",
        "target_names = np.genfromtxt('/content/glass0.dat',\n",
        "                     usecols=range(9,10), # This brings the last column of the dataset, which has the class\n",
        "                     dtype = None,\n",
        "                     encoding = None, # This helps us get the strings in a numpy array\n",
        "                     skip_header=14,\n",
        "                     delimiter=',')\n",
        "\n",
        "print(data,data.shape)\n",
        "print(target_names,target_names.shape)"
      ]
    },
    {
      "cell_type": "markdown",
      "metadata": {
        "id": "alvjq-zPFW6P"
      },
      "source": [
        "Notice that once again, we will store the data and the target in separate variables. Moreover, we will generate a new target variable called `target` with `positive=0` and `negative=1` using the **list comprehension** technique:"
      ]
    },
    {
      "cell_type": "code",
      "execution_count": null,
      "metadata": {
        "colab": {
          "base_uri": "https://localhost:8080/"
        },
        "id": "6xKNISsyFW6Q",
        "outputId": "089486ed-9878-4ff3-956e-390880b09de1"
      },
      "outputs": [
        {
          "output_type": "stream",
          "name": "stdout",
          "text": [
            "[0 0 0 0 0 0 0 0 0 0 0 0 0 0 0 0 0 0 0 0 0 0 0 0 0 0 0 0 0 0 0 0 0 0 0 0 0\n",
            " 0 0 0 0 0 0 0 0 0 0 0 0 0 0 0 0 0 0 0 0 0 0 0 0 0 0 0 0 0 0 0 0 0 1 1 1 1\n",
            " 1 1 1 1 1 1 1 1 1 1 1 1 1 1 1 1 1 1 1 1 1 1 1 1 1 1 1 1 1 1 1 1 1 1 1 1 1\n",
            " 1 1 1 1 1 1 1 1 1 1 1 1 1 1 1 1 1 1 1 1 1 1 1 1 1 1 1 1 1 1 1 1 1 1 1 1 1\n",
            " 1 1 1 1 1 1 1 1 1 1 1 1 1 1 1 1 1 1 1 1 1 1 1 1 1 1 1 1 1 1 1 1 1 1 1 1 1\n",
            " 1 1 1 1 1 1 1 1 1 1 1 1 1 1 1 1 1 1 1 1 1 1 1 1 1 1 1 1 1] (214,)\n"
          ]
        }
      ],
      "source": [
        "target = []\n",
        "target = [0 if i == ' positive' else 1 for i in target_names]\n",
        "target=np.array(target)\n",
        "print(target,target.shape)"
      ]
    },
    {
      "cell_type": "markdown",
      "metadata": {
        "id": "dIrHLI36FW6R"
      },
      "source": [
        "Notice that we chose 0 to be the positive and 1 to be the negative since the [glass0 documentation](https://sci2s.ugr.es/keel/dataset.php?cod=141) said so!"
      ]
    },
    {
      "cell_type": "markdown",
      "metadata": {
        "id": "5uXtAbh1FW6R"
      },
      "source": [
        "### Training the Classifiers"
      ]
    },
    {
      "cell_type": "markdown",
      "metadata": {
        "id": "b3ZCfvDuFW6S"
      },
      "source": [
        "Now we need to train a supervised learning model to evaluate. In this case we will use two popular classification models so that we can compare which is better for this dataset: **Support Vector Machine (SVM)** vs. **Random Forests (RF)**:"
      ]
    },
    {
      "cell_type": "markdown",
      "metadata": {
        "id": "bK6SsH1yFW6S"
      },
      "source": [
        "First we need to split our dataset into training and testing sets (80% train, 20% test). You have already done this in the past!"
      ]
    },
    {
      "cell_type": "code",
      "execution_count": null,
      "metadata": {
        "colab": {
          "base_uri": "https://localhost:8080/"
        },
        "id": "hkbLC6PsFW6T",
        "outputId": "33371204-3fb9-4c50-fa46-c5fbb48d2267"
      },
      "outputs": [
        {
          "output_type": "stream",
          "name": "stdout",
          "text": [
            "Number of positive and negative samples in the training set:  56 115\n",
            "Number of positive and negative samples in the test set:  14 29\n"
          ]
        }
      ],
      "source": [
        "## Use this cell to split your dataset into training and testing w/ stratification\n",
        "from sklearn.model_selection import train_test_split\n",
        "X_train, X_test, y_train, y_test = train_test_split(data,target,stratify=target,test_size=0.2)\n",
        "print('Number of positive and negative samples in the training set: ',np.count_nonzero(y_train == 0),np.count_nonzero(y_train == 1))\n",
        "print('Number of positive and negative samples in the test set: ',np.count_nonzero(y_test == 0),np.count_nonzero(y_test == 1))"
      ]
    },
    {
      "cell_type": "markdown",
      "metadata": {
        "id": "VW7U9PG2FW6U"
      },
      "source": [
        "Now train a SVM model called `model_svm` using the training data and predict the test data. Store the fitted model in a variable called `clf_svm` and the prediction results in a variable called `y_svm`."
      ]
    },
    {
      "cell_type": "code",
      "execution_count": null,
      "metadata": {
        "colab": {
          "base_uri": "https://localhost:8080/"
        },
        "id": "Kf2_wutqFW6V",
        "outputId": "28bc174f-87c2-4ce2-f279-5d9a3c3d2a7b"
      },
      "outputs": [
        {
          "output_type": "stream",
          "name": "stdout",
          "text": [
            "[0 1 1 1 1 1 1 1 1 1 1 0 1 1 1 1 1 0 1 1 0 1 1 0 0 1 1 1 1 0 0 1 0 1 1 1 0\n",
            " 0 1 1 1 1 1] (43,)\n"
          ]
        }
      ],
      "source": [
        "## Use this cell to train a SVM model to predict the labels of the test data\n",
        "from sklearn.svm import SVC\n",
        "model_svm = SVC(kernel='linear')\n",
        "clf_svm = model_svm.fit(X_train,y_train)\n",
        "y_svm = model_svm.predict(X_test)\n",
        "print(y_svm,y_svm.shape)"
      ]
    },
    {
      "cell_type": "markdown",
      "metadata": {
        "id": "VeMq-yS1FW6W"
      },
      "source": [
        "Likewise, train a RF model called `model_rf` (using the `RandomForestClassifier()` function contained in `sklearn.ensemble` package) on the same training data and predict the test data. Store the results in variables called `clf_rf` and `y_rf`."
      ]
    },
    {
      "cell_type": "code",
      "execution_count": null,
      "metadata": {
        "colab": {
          "base_uri": "https://localhost:8080/"
        },
        "id": "jQvhcWavFW6X",
        "outputId": "c6075de5-5d80-4089-973a-11c09890bd6b"
      },
      "outputs": [
        {
          "output_type": "stream",
          "name": "stdout",
          "text": [
            "[1 1 0 0 1 1 1 1 1 1 1 0 1 0 1 1 1 0 1 1 0 1 0 0 0 1 1 0 1 0 0 1 0 1 1 1 0\n",
            " 0 1 1 1 0 0] (43,)\n"
          ]
        }
      ],
      "source": [
        "## Use this cell to train a RF model to predict the labels of the test data\n",
        "from sklearn.ensemble import RandomForestClassifier\n",
        "model_rf = RandomForestClassifier(n_estimators = 1000, random_state = 42)\n",
        "clf_rf = model_rf.fit(X_train, y_train)\n",
        "y_rf = model_rf.predict(X_test)\n",
        "print(y_rf,y_rf.shape)"
      ]
    },
    {
      "cell_type": "markdown",
      "metadata": {
        "id": "GeTaYYEsFW6X"
      },
      "source": [
        "Both `y_svm` and `y_rf` should be *numpy* array vectors of size (43,)"
      ]
    },
    {
      "cell_type": "markdown",
      "metadata": {
        "id": "s-soiiYLFW6Y"
      },
      "source": [
        "### Performance Evaluation Metrics"
      ]
    },
    {
      "cell_type": "markdown",
      "metadata": {
        "id": "x5l-zc5MFW6Y"
      },
      "source": [
        "In week 3 lab, we saw that once that we predict the values for the test set, we can compare both the `y_test` vector with the predicted vectors (in our case `y_svm` and `y_rf`) to obtain the results. If you recall, it was quite tricky to do this as we had more classes in the vector! Therefore, this time we will do it slightly different..."
      ]
    },
    {
      "cell_type": "markdown",
      "metadata": {
        "id": "v-Xkiv91FW6Y"
      },
      "source": [
        "#### Accuracy"
      ]
    },
    {
      "cell_type": "markdown",
      "metadata": {
        "id": "DCH6i6upFW6Z"
      },
      "source": [
        "By now you should know that everything in Python can be imported! Performance metrics can be imported as well. We will first use accuracy (although it should be very clear by now that this one is not suitable for imbalanced datasets)."
      ]
    },
    {
      "cell_type": "code",
      "execution_count": null,
      "metadata": {
        "colab": {
          "base_uri": "https://localhost:8080/"
        },
        "id": "8fub_QCxFW6Z",
        "outputId": "1d6dfd68-5639-40cd-dc76-36ece0409362"
      },
      "outputs": [
        {
          "output_type": "stream",
          "name": "stdout",
          "text": [
            "Accuracy of SVM:  0.6976744186046512\n",
            "Accuracy of RF:  0.8837209302325582\n"
          ]
        }
      ],
      "source": [
        "from sklearn.metrics import accuracy_score\n",
        "print('Accuracy of SVM: ', accuracy_score(y_svm, y_test))\n",
        "print('Accuracy of RF: ', accuracy_score(y_rf, y_test))"
      ]
    },
    {
      "cell_type": "markdown",
      "metadata": {
        "id": "4eNi7JZbFW6a"
      },
      "source": [
        "**Which is the best classifier in terms of accuracy?**"
      ]
    },
    {
      "cell_type": "markdown",
      "metadata": {
        "id": "LJzxydfoFW6a"
      },
      "source": [
        "**Answer:** RF, since [some sources](https://elitedatascience.com/imbalanced-classes) suggest that decision-tree based models learn better from imbalance data compared to vector-based models."
      ]
    },
    {
      "cell_type": "markdown",
      "metadata": {
        "id": "hncFQayeFW6a"
      },
      "source": [
        "#### AUC-ROC"
      ]
    },
    {
      "cell_type": "markdown",
      "metadata": {
        "id": "intE_0qJFW6b"
      },
      "source": [
        "In this week's lecture we saw that one of the most robust metrics for accuracy in the *imbalanced* world is the area under the receiver operating characteristic curve (or AUC-ROC for short). To get this metric, we need to retrain our models, this time in a probabilistic way!"
      ]
    },
    {
      "cell_type": "markdown",
      "metadata": {
        "id": "mrTkRVEGFW6c"
      },
      "source": [
        "This means that by setting the input `probability=True` when generating our SVM model (RF doesn't need it) and by changing `predict` to `predict_proba`, we will not obtain a fixed output, but instead a probability (value between 0 and 1) of the classification to be 0 or 1 respectively."
      ]
    },
    {
      "cell_type": "markdown",
      "metadata": {
        "id": "5IGpcKmmFW6c"
      },
      "source": [
        "To keep the previous models/classes/predictions in our workspace, train new (probabilistic) models in the following cell and store the trained models as `model_svm_proba` and `model_rf_proba`, the classifiers as `clf_svm_proba` and `clf_rf_proba`, and the outputs as `y_svm_proba` and `y_rf_proba`:"
      ]
    },
    {
      "cell_type": "code",
      "execution_count": null,
      "metadata": {
        "colab": {
          "base_uri": "https://localhost:8080/"
        },
        "id": "mBiiqjplFW6d",
        "outputId": "ce268bd7-9425-44db-aeed-05f2735af670"
      },
      "outputs": [
        {
          "output_type": "stream",
          "name": "stdout",
          "text": [
            "[[0.5        0.5       ]\n",
            " [0.00290506 0.99709494]\n",
            " [0.4310463  0.5689537 ]\n",
            " [0.33652558 0.66347442]\n",
            " [0.42883087 0.57116913]\n",
            " [0.33176612 0.66823388]\n",
            " [0.29633996 0.70366004]\n",
            " [0.28273627 0.71726373]\n",
            " [0.0026465  0.9973535 ]\n",
            " [0.0070745  0.9929255 ]\n",
            " [0.2861486  0.7138514 ]\n",
            " [0.72053046 0.27946954]\n",
            " [0.00361924 0.99638076]\n",
            " [0.4614873  0.5385127 ]\n",
            " [0.04359583 0.95640417]\n",
            " [0.13361643 0.86638357]\n",
            " [0.00497214 0.99502786]\n",
            " [0.69386133 0.30613867]\n",
            " [0.03977946 0.96022054]\n",
            " [0.03867366 0.96132634]\n",
            " [0.57147958 0.42852042]\n",
            " [0.29655905 0.70344095]\n",
            " [0.48076318 0.51923682]\n",
            " [0.68973062 0.31026938]\n",
            " [0.8230479  0.1769521 ]\n",
            " [0.33115286 0.66884714]\n",
            " [0.00453551 0.99546449]\n",
            " [0.38696399 0.61303601]\n",
            " [0.21297886 0.78702114]\n",
            " [0.7632129  0.2367871 ]\n",
            " [0.72680895 0.27319105]\n",
            " [0.3064582  0.6935418 ]\n",
            " [0.55173802 0.44826198]\n",
            " [0.32977871 0.67022129]\n",
            " [0.3402258  0.6597742 ]\n",
            " [0.21937489 0.78062511]\n",
            " [0.51043782 0.48956218]\n",
            " [0.58734293 0.41265707]\n",
            " [0.02281678 0.97718322]\n",
            " [0.20507039 0.79492961]\n",
            " [0.03891567 0.96108433]\n",
            " [0.46088941 0.53911059]\n",
            " [0.41220668 0.58779332]] (43, 2)\n",
            "[[0.243 0.757]\n",
            " [0.034 0.966]\n",
            " [0.85  0.15 ]\n",
            " [0.538 0.462]\n",
            " [0.328 0.672]\n",
            " [0.31  0.69 ]\n",
            " [0.027 0.973]\n",
            " [0.205 0.795]\n",
            " [0.003 0.997]\n",
            " [0.    1.   ]\n",
            " [0.227 0.773]\n",
            " [0.819 0.181]\n",
            " [0.008 0.992]\n",
            " [0.78  0.22 ]\n",
            " [0.259 0.741]\n",
            " [0.016 0.984]\n",
            " [0.004 0.996]\n",
            " [0.879 0.121]\n",
            " [0.02  0.98 ]\n",
            " [0.029 0.971]\n",
            " [0.709 0.291]\n",
            " [0.138 0.862]\n",
            " [0.686 0.314]\n",
            " [0.817 0.183]\n",
            " [0.864 0.136]\n",
            " [0.395 0.605]\n",
            " [0.002 0.998]\n",
            " [0.524 0.476]\n",
            " [0.094 0.906]\n",
            " [0.859 0.141]\n",
            " [0.782 0.218]\n",
            " [0.3   0.7  ]\n",
            " [0.581 0.419]\n",
            " [0.064 0.936]\n",
            " [0.166 0.834]\n",
            " [0.067 0.933]\n",
            " [0.812 0.188]\n",
            " [0.654 0.346]\n",
            " [0.041 0.959]\n",
            " [0.391 0.609]\n",
            " [0.227 0.773]\n",
            " [0.766 0.234]\n",
            " [0.945 0.055]] (43, 2)\n"
          ]
        }
      ],
      "source": [
        "## Use this cell to re-train the models in a probabilistic way\n",
        "model_svm_proba = SVC(kernel='linear', probability=True)\n",
        "clf_svm_proba = model_svm_proba.fit(X_train,y_train)\n",
        "y_svm_proba = clf_svm_proba.predict_proba(X_test)\n",
        "\n",
        "model_rf_proba = RandomForestClassifier(n_estimators = 1000, random_state = 42)\n",
        "clf_rf_proba = model_rf_proba.fit(X_train, y_train)\n",
        "y_rf_proba = clf_rf_proba.predict_proba(X_test)\n",
        "\n",
        "print(y_svm_proba,y_svm_proba.shape)\n",
        "print(y_rf_proba,y_rf_proba.shape)"
      ]
    },
    {
      "cell_type": "markdown",
      "metadata": {
        "id": "Q51l8sYfFW6e"
      },
      "source": [
        "For `y_svm_proba` and `y_rf_proba` you should get *numpy* arrays of shape (43, 2), as now each output contains the probability of each sample to be 0 (first value) or 1 (second value)."
      ]
    },
    {
      "cell_type": "markdown",
      "metadata": {
        "id": "AaDbEoDVFW6e"
      },
      "source": [
        "Now we will evaluate the AUC-ROC. We will **not** get the plot (as we don't have different thresholds), but rather we will obtain the numeric area under the curve (a value between 0 and 1, the larger the better)."
      ]
    },
    {
      "cell_type": "markdown",
      "metadata": {
        "id": "oXWPAWrxFW6e"
      },
      "source": [
        "To obtain this values, you can run the following cell (provided that you have correctly calculated `y_svm_proba` and `y_rf_proba` in the previous step):"
      ]
    },
    {
      "cell_type": "code",
      "execution_count": null,
      "metadata": {
        "colab": {
          "base_uri": "https://localhost:8080/"
        },
        "id": "hKil5LVaFW6e",
        "outputId": "c1cb64fd-b1f5-43a1-a7af-21a4c01147e2"
      },
      "outputs": [
        {
          "output_type": "stream",
          "name": "stdout",
          "text": [
            "AUC for SVM:  0.14532019704433496\n",
            "AUC for RF:  0.05788177339901478\n"
          ]
        }
      ],
      "source": [
        "## Testing AUC-ROC considering the probabilities of the positive class (i.e. 0)\n",
        "from sklearn.metrics import roc_auc_score\n",
        "\n",
        "# First, we need to extract only the probabilities of classifying 0 (second column of our numpy arrays)\n",
        "# We can do this once again by means of list comprehension\n",
        "y_svm_proba_0 = [p[0] for p in y_svm_proba]\n",
        "y_rf_proba_0 = [p[0] for p in y_rf_proba]\n",
        "\n",
        "print('AUC for SVM: ',roc_auc_score(y_test, y_svm_proba_0))\n",
        "print('AUC for RF: ',roc_auc_score(y_test, y_rf_proba_0))"
      ]
    },
    {
      "cell_type": "markdown",
      "metadata": {
        "id": "DCPi7HrvFW6f"
      },
      "source": [
        "If you are getting AUC-ROC values **smaller than 0.5** then you can simply invert them (or get the AUC-ROC for the rest/negative class) to get the actual AUC-ROC value for this classifier."
      ]
    },
    {
      "cell_type": "markdown",
      "metadata": {
        "id": "ZhFraohzFW6f"
      },
      "source": [
        "A comprehensive explanation of why AUC-ROC cannot be smaller than 0.5 can be found [here](https://www.datascienceblog.net/post/machine-learning/interpreting-roc-curves-auc/)."
      ]
    },
    {
      "cell_type": "code",
      "execution_count": null,
      "metadata": {
        "colab": {
          "base_uri": "https://localhost:8080/"
        },
        "id": "y7Fy2Ju0FW6f",
        "outputId": "601cd3b8-2e4d-41c4-e455-8350640f63f0"
      },
      "outputs": [
        {
          "output_type": "stream",
          "name": "stdout",
          "text": [
            "AUC for SVM:  0.8546798029556651\n",
            "AUC for RF:  0.9421182266009852\n"
          ]
        }
      ],
      "source": [
        "## Use this cell to test AUC-ROC considering the probabilities of the rest/negative class (i.e. 1)\n",
        "from sklearn.metrics import roc_auc_score\n",
        "\n",
        "# First, we need to extract only the probabilities of classifying 1 (second column of our numpy arrays)\n",
        "# We can do this once again by means of list comprehension\n",
        "y_svm_proba_1 = [p[1] for p in y_svm_proba]\n",
        "y_rf_proba_1 = [p[1] for p in y_rf_proba]\n",
        "\n",
        "print('AUC for SVM: ',roc_auc_score(y_test, y_svm_proba_1))\n",
        "print('AUC for RF: ',roc_auc_score(y_test, y_rf_proba_1))"
      ]
    },
    {
      "cell_type": "markdown",
      "metadata": {
        "id": "vDy2_sZcFW6g"
      },
      "source": [
        "**Is the classifier that was better in accuracy still better in AUC?**"
      ]
    },
    {
      "cell_type": "markdown",
      "metadata": {
        "id": "72-aXZOpFW6g"
      },
      "source": [
        "**ANSWER:** Depends, but in this case it is."
      ]
    },
    {
      "cell_type": "markdown",
      "metadata": {
        "id": "XD60OajcFW6g"
      },
      "source": [
        "### Cross Validation"
      ]
    },
    {
      "cell_type": "markdown",
      "metadata": {
        "id": "B0L-n3qRFW6g"
      },
      "source": [
        "Let's see if the previous results were not product of chance or a lucky data split! To do so, we will use cross validation with $k=5$ folds."
      ]
    },
    {
      "cell_type": "markdown",
      "metadata": {
        "id": "ed_U3jAAFW6h"
      },
      "source": [
        "Using the `KFold()`function contained in the `sklearn.model_selection` package you can split a dataset (in this case, the original one contained in the `data` variable) by using the `get_n_splits()` method"
      ]
    },
    {
      "cell_type": "code",
      "execution_count": null,
      "metadata": {
        "colab": {
          "base_uri": "https://localhost:8080/"
        },
        "id": "iw7qnSulFW6i",
        "outputId": "69f7b842-1d39-4619-cbc5-0f449d7d471b"
      },
      "outputs": [
        {
          "output_type": "stream",
          "name": "stdout",
          "text": [
            "KFold(n_splits=5, random_state=None, shuffle=False)\n"
          ]
        }
      ],
      "source": [
        "from sklearn.model_selection import KFold\n",
        "kf = KFold(n_splits=5)\n",
        "kf.get_n_splits(data)\n",
        "print(kf)"
      ]
    },
    {
      "cell_type": "markdown",
      "metadata": {
        "id": "BZESJ1HIFW6i"
      },
      "source": [
        "So far you only get a `KFold` object. However, we can put this object inside a for loop to create different training and testing sets in each iteration:"
      ]
    },
    {
      "cell_type": "code",
      "execution_count": null,
      "metadata": {
        "colab": {
          "base_uri": "https://localhost:8080/"
        },
        "id": "uZxNffZVFW6i",
        "outputId": "4a6091c3-1fc8-4f41-a932-ab9c867ffdd7"
      },
      "outputs": [
        {
          "output_type": "stream",
          "name": "stdout",
          "text": [
            "\n",
            "Fold 1:\n",
            "TRAIN INDEXES: [ 43  44  45  46  47  48  49  50  51  52  53  54  55  56  57  58  59  60\n",
            "  61  62  63  64  65  66  67  68  69  70  71  72  73  74  75  76  77  78\n",
            "  79  80  81  82  83  84  85  86  87  88  89  90  91  92  93  94  95  96\n",
            "  97  98  99 100 101 102 103 104 105 106 107 108 109 110 111 112 113 114\n",
            " 115 116 117 118 119 120 121 122 123 124 125 126 127 128 129 130 131 132\n",
            " 133 134 135 136 137 138 139 140 141 142 143 144 145 146 147 148 149 150\n",
            " 151 152 153 154 155 156 157 158 159 160 161 162 163 164 165 166 167 168\n",
            " 169 170 171 172 173 174 175 176 177 178 179 180 181 182 183 184 185 186\n",
            " 187 188 189 190 191 192 193 194 195 196 197 198 199 200 201 202 203 204\n",
            " 205 206 207 208 209 210 211 212 213]\n",
            "TEST INDEXES: [ 0  1  2  3  4  5  6  7  8  9 10 11 12 13 14 15 16 17 18 19 20 21 22 23\n",
            " 24 25 26 27 28 29 30 31 32 33 34 35 36 37 38 39 40 41 42]\n",
            "\n",
            "Fold 2:\n",
            "TRAIN INDEXES: [  0   1   2   3   4   5   6   7   8   9  10  11  12  13  14  15  16  17\n",
            "  18  19  20  21  22  23  24  25  26  27  28  29  30  31  32  33  34  35\n",
            "  36  37  38  39  40  41  42  86  87  88  89  90  91  92  93  94  95  96\n",
            "  97  98  99 100 101 102 103 104 105 106 107 108 109 110 111 112 113 114\n",
            " 115 116 117 118 119 120 121 122 123 124 125 126 127 128 129 130 131 132\n",
            " 133 134 135 136 137 138 139 140 141 142 143 144 145 146 147 148 149 150\n",
            " 151 152 153 154 155 156 157 158 159 160 161 162 163 164 165 166 167 168\n",
            " 169 170 171 172 173 174 175 176 177 178 179 180 181 182 183 184 185 186\n",
            " 187 188 189 190 191 192 193 194 195 196 197 198 199 200 201 202 203 204\n",
            " 205 206 207 208 209 210 211 212 213]\n",
            "TEST INDEXES: [43 44 45 46 47 48 49 50 51 52 53 54 55 56 57 58 59 60 61 62 63 64 65 66\n",
            " 67 68 69 70 71 72 73 74 75 76 77 78 79 80 81 82 83 84 85]\n",
            "\n",
            "Fold 3:\n",
            "TRAIN INDEXES: [  0   1   2   3   4   5   6   7   8   9  10  11  12  13  14  15  16  17\n",
            "  18  19  20  21  22  23  24  25  26  27  28  29  30  31  32  33  34  35\n",
            "  36  37  38  39  40  41  42  43  44  45  46  47  48  49  50  51  52  53\n",
            "  54  55  56  57  58  59  60  61  62  63  64  65  66  67  68  69  70  71\n",
            "  72  73  74  75  76  77  78  79  80  81  82  83  84  85 129 130 131 132\n",
            " 133 134 135 136 137 138 139 140 141 142 143 144 145 146 147 148 149 150\n",
            " 151 152 153 154 155 156 157 158 159 160 161 162 163 164 165 166 167 168\n",
            " 169 170 171 172 173 174 175 176 177 178 179 180 181 182 183 184 185 186\n",
            " 187 188 189 190 191 192 193 194 195 196 197 198 199 200 201 202 203 204\n",
            " 205 206 207 208 209 210 211 212 213]\n",
            "TEST INDEXES: [ 86  87  88  89  90  91  92  93  94  95  96  97  98  99 100 101 102 103\n",
            " 104 105 106 107 108 109 110 111 112 113 114 115 116 117 118 119 120 121\n",
            " 122 123 124 125 126 127 128]\n",
            "\n",
            "Fold 4:\n",
            "TRAIN INDEXES: [  0   1   2   3   4   5   6   7   8   9  10  11  12  13  14  15  16  17\n",
            "  18  19  20  21  22  23  24  25  26  27  28  29  30  31  32  33  34  35\n",
            "  36  37  38  39  40  41  42  43  44  45  46  47  48  49  50  51  52  53\n",
            "  54  55  56  57  58  59  60  61  62  63  64  65  66  67  68  69  70  71\n",
            "  72  73  74  75  76  77  78  79  80  81  82  83  84  85  86  87  88  89\n",
            "  90  91  92  93  94  95  96  97  98  99 100 101 102 103 104 105 106 107\n",
            " 108 109 110 111 112 113 114 115 116 117 118 119 120 121 122 123 124 125\n",
            " 126 127 128 172 173 174 175 176 177 178 179 180 181 182 183 184 185 186\n",
            " 187 188 189 190 191 192 193 194 195 196 197 198 199 200 201 202 203 204\n",
            " 205 206 207 208 209 210 211 212 213]\n",
            "TEST INDEXES: [129 130 131 132 133 134 135 136 137 138 139 140 141 142 143 144 145 146\n",
            " 147 148 149 150 151 152 153 154 155 156 157 158 159 160 161 162 163 164\n",
            " 165 166 167 168 169 170 171]\n",
            "\n",
            "Fold 5:\n",
            "TRAIN INDEXES: [  0   1   2   3   4   5   6   7   8   9  10  11  12  13  14  15  16  17\n",
            "  18  19  20  21  22  23  24  25  26  27  28  29  30  31  32  33  34  35\n",
            "  36  37  38  39  40  41  42  43  44  45  46  47  48  49  50  51  52  53\n",
            "  54  55  56  57  58  59  60  61  62  63  64  65  66  67  68  69  70  71\n",
            "  72  73  74  75  76  77  78  79  80  81  82  83  84  85  86  87  88  89\n",
            "  90  91  92  93  94  95  96  97  98  99 100 101 102 103 104 105 106 107\n",
            " 108 109 110 111 112 113 114 115 116 117 118 119 120 121 122 123 124 125\n",
            " 126 127 128 129 130 131 132 133 134 135 136 137 138 139 140 141 142 143\n",
            " 144 145 146 147 148 149 150 151 152 153 154 155 156 157 158 159 160 161\n",
            " 162 163 164 165 166 167 168 169 170 171]\n",
            "TEST INDEXES: [172 173 174 175 176 177 178 179 180 181 182 183 184 185 186 187 188 189\n",
            " 190 191 192 193 194 195 196 197 198 199 200 201 202 203 204 205 206 207\n",
            " 208 209 210 211 212 213]\n"
          ]
        }
      ],
      "source": [
        "i=1\n",
        "for train_index, test_index in kf.split(data):\n",
        "    print('\\nFold '+str(i)+':')\n",
        "    print('TRAIN INDEXES:', train_index)\n",
        "    print('TEST INDEXES:', test_index)\n",
        "    X_train, X_test = data[train_index], data[test_index]\n",
        "    y_train, y_test = target[train_index], target[test_index]\n",
        "    i+=1"
      ]
    },
    {
      "cell_type": "markdown",
      "metadata": {
        "id": "1BgJ7AoEFW6k"
      },
      "source": [
        "Notice that what is being printed in the cell above are not the samples, but the indexes from where the samples will be taken in each fold!"
      ]
    },
    {
      "cell_type": "markdown",
      "metadata": {
        "id": "IzLdeWxXFW6m"
      },
      "source": [
        "Now use the cell below to implement the **stratified** version of KFolds. Remember that stratification will ensure that both classes are equally present in each set for every fold."
      ]
    },
    {
      "cell_type": "code",
      "execution_count": null,
      "metadata": {
        "colab": {
          "base_uri": "https://localhost:8080/"
        },
        "id": "KY0uftkQFW6o",
        "outputId": "bcc018e6-900e-4916-dd07-16f7754080bb"
      },
      "outputs": [
        {
          "output_type": "stream",
          "name": "stdout",
          "text": [
            "StratifiedKFold(n_splits=5, random_state=None, shuffle=False)\n"
          ]
        }
      ],
      "source": [
        "## Use this cell to do a KFolds split in a stratified way\n",
        "# Hint: Use StratifiedKFold\n",
        "from sklearn.model_selection import StratifiedKFold\n",
        "kf_strat = StratifiedKFold(n_splits=5)\n",
        "kf_strat.get_n_splits(data, target)\n",
        "print(kf_strat)"
      ]
    },
    {
      "cell_type": "markdown",
      "metadata": {
        "id": "LpKr3WEIFW6q"
      },
      "source": [
        "To evaluate models using cross validation you **don't** need all of this! In fact, you only use this if you want to store your folds or if you want to implement more complex models."
      ]
    },
    {
      "cell_type": "markdown",
      "metadata": {
        "id": "UM8M7pSQFW6q"
      },
      "source": [
        "As a matter of fact it is easier to simply import the `cross_validate` function from the `sklearn.model_selection` package and get the scores as follows:"
      ]
    },
    {
      "cell_type": "code",
      "execution_count": null,
      "metadata": {
        "colab": {
          "base_uri": "https://localhost:8080/"
        },
        "id": "GQyTV7ZhFW6r",
        "outputId": "dec48a90-537a-4574-ed97-0ff372e997ed"
      },
      "outputs": [
        {
          "output_type": "stream",
          "name": "stdout",
          "text": [
            "SVM cross-validated scores:  {'fit_time': array([0.00386953, 0.00357461, 0.003335  , 0.00345612, 0.00341058]), 'score_time': array([0.00141716, 0.00561357, 0.00126934, 0.00124955, 0.00125217]), 'test_score': array([0.65116279, 0.72093023, 0.74418605, 0.79069767, 0.76190476])}\n",
            "RF cross-validated scores:  {'fit_time': array([1.81135798, 1.85232377, 1.77592707, 1.81633162, 1.80905676]), 'score_time': array([0.09191847, 0.08923054, 0.08850193, 0.09602571, 0.13468146]), 'test_score': array([0.90697674, 0.88372093, 0.86046512, 0.88372093, 0.85714286])}\n"
          ]
        }
      ],
      "source": [
        "# Cross validatig the original data (the function will do it all)\n",
        "from sklearn.model_selection import cross_validate\n",
        "\n",
        "scores_svm = cross_validate(model_svm, data, target, cv=5)\n",
        "print('SVM cross-validated scores: ', scores_svm)\n",
        "scores_rf = cross_validate(model_rf, data, target, cv=5)\n",
        "print('RF cross-validated scores: ', scores_rf)"
      ]
    },
    {
      "cell_type": "markdown",
      "metadata": {
        "id": "c0z5eqOeFW6r"
      },
      "source": [
        "**From these metrics do you notice any disadvantage of RF?**"
      ]
    },
    {
      "cell_type": "markdown",
      "metadata": {
        "id": "BtqEMu5VFW6s"
      },
      "source": [
        "**Answer:** RF takes longer to fit!"
      ]
    },
    {
      "cell_type": "markdown",
      "metadata": {
        "id": "co9pp2G4FW6s"
      },
      "source": [
        "In fact, these are not the only metrics you can get from cross validation! Using the `cross_val_scores` function from the `sklearn.model_selection` package you can get (almost) all of the measures that we discussed in class. You can check the [scoring documentation](https://scikit-learn.org/stable/modules/model_evaluation.html) to see what you can calculate,and below you will find some examples"
      ]
    },
    {
      "cell_type": "code",
      "execution_count": null,
      "metadata": {
        "id": "_J2QvYYIFW6s"
      },
      "outputs": [],
      "source": [
        "# First we import cross_val_scores\n",
        "from sklearn.model_selection import cross_val_score"
      ]
    },
    {
      "cell_type": "code",
      "execution_count": null,
      "metadata": {
        "colab": {
          "base_uri": "https://localhost:8080/"
        },
        "id": "86-AyTqYFW6s",
        "outputId": "7d6075f8-afd7-478d-c09f-55153c6c50d1"
      },
      "outputs": [
        {
          "output_type": "stream",
          "name": "stdout",
          "text": [
            "Accuracy for SVM:  [0.65116279 0.72093023 0.74418605 0.79069767 0.76190476]\n",
            "Accuracy for RF:  [0.90697674 0.88372093 0.86046512 0.88372093 0.85714286]\n"
          ]
        }
      ],
      "source": [
        "# Evaluating Accuracy for each fold\n",
        "print('Accuracy for SVM: ',cross_val_score(model_svm, data, target, cv=5, scoring = 'accuracy'))\n",
        "print('Accuracy for RF: ',cross_val_score(model_rf, data, target, cv=5, scoring = 'accuracy'))"
      ]
    },
    {
      "cell_type": "code",
      "execution_count": null,
      "metadata": {
        "colab": {
          "base_uri": "https://localhost:8080/"
        },
        "id": "ofJujm7dFW6s",
        "outputId": "25c338e8-4d88-4be4-ae08-eae1a053004b"
      },
      "outputs": [
        {
          "output_type": "stream",
          "name": "stdout",
          "text": [
            "Mean Accuracy for SVM:  0.7337763012181617\n",
            "Mean Accuracy for RF:  0.8784053156146179\n"
          ]
        }
      ],
      "source": [
        "# Evaluating Mean Accuracy for all folds\n",
        "print('Mean Accuracy for SVM: ',np.mean(cross_val_score(model_svm, data, target, cv=5, scoring = 'accuracy')))\n",
        "print('Mean Accuracy for RF: ',np.mean(cross_val_score(model_rf, data, target, cv=5, scoring = 'accuracy')))"
      ]
    },
    {
      "cell_type": "code",
      "execution_count": null,
      "metadata": {
        "colab": {
          "base_uri": "https://localhost:8080/"
        },
        "id": "kA6YMhNCFW6s",
        "outputId": "d0b157b1-16a0-4979-ce81-f5d82fa84242"
      },
      "outputs": [
        {
          "output_type": "stream",
          "name": "stdout",
          "text": [
            "Precision for SVM:  [0.75       0.84       0.8        0.79411765 0.73684211]\n",
            "Precision for RF:  [0.93103448 0.92857143 0.96       0.9        0.84375   ]\n",
            "Recall for SVM:  [0.72413793 0.72413793 0.82758621 0.93103448 1.        ]\n",
            "Recall for RF:  [0.93103448 0.89655172 0.82758621 0.93103448 0.96428571]\n",
            "F1-Score for SVM:  [0.73684211 0.77777778 0.81355932 0.85714286 0.84848485]\n",
            "F1-Score for RF:  [0.93103448 0.9122807  0.88888889 0.91525424 0.9       ]\n",
            "Mean Precision for SVM:  0.7841919504643962\n",
            "Mean Precision for RF:  0.9126711822660099\n",
            "Mean Recall for SVM:  0.8413793103448276\n",
            "Mean Recall for RF:  0.9100985221674875\n",
            "Mean F1-Score for SVM:  0.8067613821405079\n",
            "Mean F1-Score for RF:  0.9094916621380061\n"
          ]
        }
      ],
      "source": [
        "# Evaluating Precision, Recall and F1-score (both by fold and average)\n",
        "print('Precision for SVM: ',cross_val_score(model_svm, data, target, cv=5, scoring = 'precision'))\n",
        "print('Precision for RF: ',cross_val_score(model_rf, data, target, cv=5, scoring = 'precision'))\n",
        "print('Recall for SVM: ',cross_val_score(model_svm, data, target, cv=5, scoring = 'recall'))\n",
        "print('Recall for RF: ',cross_val_score(model_rf, data, target, cv=5, scoring = 'recall'))\n",
        "print('F1-Score for SVM: ',cross_val_score(model_svm, data, target, cv=5, scoring = 'f1'))\n",
        "print('F1-Score for RF: ',cross_val_score(model_rf, data, target, cv=5, scoring = 'f1'))\n",
        "\n",
        "print('Mean Precision for SVM: ',np.mean(cross_val_score(model_svm, data, target, cv=5, scoring = 'precision')))\n",
        "print('Mean Precision for RF: ',np.mean(cross_val_score(model_rf, data, target, cv=5, scoring = 'precision')))\n",
        "print('Mean Recall for SVM: ',np.mean(cross_val_score(model_svm, data, target, cv=5, scoring = 'recall')))\n",
        "print('Mean Recall for RF: ',np.mean(cross_val_score(model_rf, data, target, cv=5, scoring = 'recall')))\n",
        "print('Mean F1-Score for SVM: ',np.mean(cross_val_score(model_svm, data, target, cv=5, scoring = 'f1')))\n",
        "print('Mean F1-Score for RF: ',np.mean(cross_val_score(model_rf, data, target, cv=5, scoring = 'f1')))"
      ]
    },
    {
      "cell_type": "markdown",
      "metadata": {
        "id": "VdrNMJV6FW6t"
      },
      "source": [
        "Notice that in the Keel repository, there is already a version of the glass dataset called **5FCV**. This means that the authors of this repository already provide a \"proper\" partition of this dataset to test cross validation. If you download this version, you will get 10 *.dat* files instead of 1. **Do you know why?**"
      ]
    },
    {
      "cell_type": "markdown",
      "metadata": {
        "id": "B-NCxQvaFW6u"
      },
      "source": [
        "**Answer:** Because there are 5 pairs of files, one for each fold of train and test data."
      ]
    },
    {
      "cell_type": "markdown",
      "metadata": {
        "id": "FBKbKbTMFW6u"
      },
      "source": [
        "## Bonus"
      ]
    },
    {
      "cell_type": "code",
      "source": [
        "## Run this cell to import galss0.dat to Colab\n",
        "!wget -O data_cv.zip https://sci2s.ugr.es/keel/dataset/data/imbalanced/glass0-5-fold.zip\n",
        "!unzip data_cv.zip"
      ],
      "metadata": {
        "colab": {
          "base_uri": "https://localhost:8080/"
        },
        "id": "KAzK_GxbFry-",
        "outputId": "6cb1324b-20d8-438a-829d-a2536e11f953"
      },
      "execution_count": null,
      "outputs": [
        {
          "output_type": "stream",
          "name": "stdout",
          "text": [
            "--2023-03-09 13:18:59--  https://sci2s.ugr.es/keel/dataset/data/imbalanced/glass0-5-fold.zip\n",
            "Resolving sci2s.ugr.es (sci2s.ugr.es)... 150.214.190.154\n",
            "Connecting to sci2s.ugr.es (sci2s.ugr.es)|150.214.190.154|:443... connected.\n",
            "HTTP request sent, awaiting response... 200 OK\n",
            "Length: 30292 (30K) [application/zip]\n",
            "Saving to: ‘data_cv.zip’\n",
            "\n",
            "data_cv.zip         100%[===================>]  29.58K  --.-KB/s    in 0.1s    \n",
            "\n",
            "2023-03-09 13:18:59 (283 KB/s) - ‘data_cv.zip’ saved [30292/30292]\n",
            "\n",
            "Archive:  data_cv.zip\n",
            "replace glass0-5-1tra.dat? [y]es, [n]o, [A]ll, [N]one, [r]ename: n\n",
            "replace glass0-5-1tst.dat? [y]es, [n]o, [A]ll, [N]one, [r]ename: n\n",
            "replace glass0-5-2tra.dat? [y]es, [n]o, [A]ll, [N]one, [r]ename: n\n",
            "replace glass0-5-2tst.dat? [y]es, [n]o, [A]ll, [N]one, [r]ename: n\n",
            "replace glass0-5-3tra.dat? [y]es, [n]o, [A]ll, [N]one, [r]ename: n\n",
            "replace glass0-5-3tst.dat? [y]es, [n]o, [A]ll, [N]one, [r]ename: n\n",
            "replace glass0-5-4tra.dat? [y]es, [n]o, [A]ll, [N]one, [r]ename: n\n",
            "replace glass0-5-4tst.dat? [y]es, [n]o, [A]ll, [N]one, [r]ename: n\n",
            "replace glass0-5-5tra.dat? [y]es, [n]o, [A]ll, [N]one, [r]ename: n\n",
            "replace glass0-5-5tst.dat? [y]es, [n]o, [A]ll, [N]one, [r]ename: n\n"
          ]
        }
      ]
    },
    {
      "cell_type": "code",
      "execution_count": null,
      "metadata": {
        "scrolled": true,
        "colab": {
          "base_uri": "https://localhost:8080/"
        },
        "id": "Ogxb_EzyFW6v",
        "outputId": "164286ac-62e3-469e-d60e-242fa4b253d2"
      },
      "outputs": [
        {
          "output_type": "stream",
          "name": "stdout",
          "text": [
            "%%%%%%%%%%%%%FOLD 1%%%%%%%%%%%%%%%%%%%%%%%\n",
            "Accuracy of SVM (Fold 1):  0.7209302325581395\n",
            "Accuracy of RF (Fold 1):  0.8837209302325582\n",
            "%%%%%%%%%%%%%FOLD 2%%%%%%%%%%%%%%%%%%%%%%%\n",
            "Accuracy of SVM (Fold 2):  0.7906976744186046\n",
            "Accuracy of RF (Fold 2):  0.8372093023255814\n",
            "%%%%%%%%%%%%%FOLD 3%%%%%%%%%%%%%%%%%%%%%%%\n",
            "Accuracy of SVM (Fold 3):  0.7674418604651163\n",
            "Accuracy of RF (Fold 3):  0.8837209302325582\n",
            "%%%%%%%%%%%%%FOLD 4%%%%%%%%%%%%%%%%%%%%%%%\n",
            "Accuracy of SVM (Fold 4):  0.6511627906976745\n",
            "Accuracy of RF (Fold 4):  0.8372093023255814\n",
            "%%%%%%%%%%%%%FOLD 5%%%%%%%%%%%%%%%%%%%%%%%\n",
            "Accuracy of SVM (Fold 5):  0.8095238095238095\n",
            "Accuracy of RF (Fold 5):  0.9285714285714286\n",
            "%%%%%%%%FINAL RESULTS%%%%%%%%%%%%%\n",
            "Average Accuracy of SVM (All Folds):  0.7479512735326688\n",
            "Average Accuracy of RF (All Folds):  0.8740863787375416\n"
          ]
        }
      ],
      "source": [
        "accuracy_svm_final = 0\n",
        "accuracy_rf_final = 0\n",
        "for i in range(5): # Iterate five times\n",
        "    # Load data for each fold\n",
        "    print('%%%%%%%%%%%%%FOLD '+str(i+1)+'%%%%%%%%%%%%%%%%%%%%%%%')\n",
        "    X_train = np.genfromtxt('/content/glass0-5-'+str(i+1)+'tra.dat',\n",
        "                     usecols=range(9), # this only brings the first nine columns of the dataset\n",
        "                     skip_header=14, # The first 14 lines of the .dat contain a description\n",
        "                     delimiter=',')\n",
        "\n",
        "    y_train_names = np.genfromtxt('/content/glass0-5-'+str(i+1)+'tra.dat',\n",
        "                     usecols=range(9,10), # This brings the last column of the dataset, which has the class\n",
        "                     dtype = None,\n",
        "                     encoding = None, # This helps us get the strings in a numpy array\n",
        "                     skip_header=14,\n",
        "                     delimiter=',')\n",
        "    X_test = np.genfromtxt('/content/glass0-5-'+str(i+1)+'tst.dat',\n",
        "                     usecols=range(9), # this only brings the first nine columns of the dataset\n",
        "                     skip_header=14, # The first 14 lines of the .dat contain a description\n",
        "                     delimiter=',')\n",
        "    y_test_names = np.genfromtxt('/content/glass0-5-'+str(i+1)+'tst.dat',\n",
        "                     usecols=range(9,10), # This brings the last column of the dataset, which has the class\n",
        "                     dtype = None,\n",
        "                     encoding = None, # This helps us get the strings in a numpy array\n",
        "                     skip_header=14,\n",
        "                     delimiter=',')\n",
        "    # Convert target into numbers\n",
        "    y_train = []\n",
        "    y_train = [0 if i == ' positive' else 1 for i in y_train_names]\n",
        "    y_train=np.array(y_train)\n",
        "    y_test = []\n",
        "    y_test = [0 if i == ' positive' else 1 for i in y_test_names]\n",
        "    y_test=np.array(y_test)\n",
        "    # TRAIN-TEST SVM\n",
        "    model_svm = SVC(kernel='linear')\n",
        "    clf_svm = model_svm.fit(X_train,y_train)\n",
        "    y_svm = model_svm.predict(X_test)\n",
        "    # TRAIN-TEST RF\n",
        "    model_rf = RandomForestClassifier(n_estimators = 1000, random_state = 42)\n",
        "    clf_rf = model_rf.fit(X_train, y_train)\n",
        "    y_rf = model_rf.predict(X_test)\n",
        "    # Calculate accuracy\n",
        "    print('Accuracy of SVM (Fold '+str(i+1)+'): ', accuracy_score(y_svm, y_test))\n",
        "    print('Accuracy of RF (Fold '+str(i+1)+'): ', accuracy_score(y_rf, y_test))\n",
        "    accuracy_svm_final = accuracy_svm_final + accuracy_score(y_svm, y_test)\n",
        "    accuracy_rf_final = accuracy_rf_final + accuracy_score(y_rf, y_test)\n",
        "print('%%%%%%%%FINAL RESULTS%%%%%%%%%%%%%')\n",
        "print('Average Accuracy of SVM (All Folds): ', accuracy_svm_final/5)\n",
        "print('Average Accuracy of RF (All Folds): ', accuracy_rf_final/5)"
      ]
    }
  ],
  "metadata": {
    "hide_input": false,
    "kernelspec": {
      "display_name": "Python 3",
      "language": "python",
      "name": "python3"
    },
    "language_info": {
      "codemirror_mode": {
        "name": "ipython",
        "version": 3
      },
      "file_extension": ".py",
      "mimetype": "text/x-python",
      "name": "python",
      "nbconvert_exporter": "python",
      "pygments_lexer": "ipython3",
      "version": "3.7.3"
    },
    "varInspector": {
      "cols": {
        "lenName": 16,
        "lenType": 16,
        "lenVar": 40
      },
      "kernels_config": {
        "python": {
          "delete_cmd_postfix": "",
          "delete_cmd_prefix": "del ",
          "library": "var_list.py",
          "varRefreshCmd": "print(var_dic_list())"
        },
        "r": {
          "delete_cmd_postfix": ") ",
          "delete_cmd_prefix": "rm(",
          "library": "var_list.r",
          "varRefreshCmd": "cat(var_dic_list()) "
        }
      },
      "types_to_exclude": [
        "module",
        "function",
        "builtin_function_or_method",
        "instance",
        "_Feature"
      ],
      "window_display": false
    },
    "colab": {
      "provenance": [],
      "include_colab_link": true
    }
  },
  "nbformat": 4,
  "nbformat_minor": 0
}